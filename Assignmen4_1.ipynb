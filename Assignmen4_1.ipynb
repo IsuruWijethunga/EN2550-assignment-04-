{
  "nbformat": 4,
  "nbformat_minor": 0,
  "metadata": {
    "colab": {
      "name": "Assignmen4.1.ipynb",
      "provenance": []
    },
    "kernelspec": {
      "name": "python3",
      "display_name": "Python 3"
    },
    "language_info": {
      "name": "python"
    }
  },
  "cells": [
    {
      "cell_type": "code",
      "metadata": {
        "colab": {
          "base_uri": "https://localhost:8080/"
        },
        "id": "MRW-njx_ZQml",
        "outputId": "ec6f6b0b-f4c3-4969-967c-8a6ece9dcc14"
      },
      "source": [
        "import numpy as np \n",
        "import tensorflow as tf\n",
        "from tensorflow import keras\n",
        "import matplotlib.pyplot as plt\n",
        "from tensorflow.keras.datasets import cifar10,mnist\n",
        "\n",
        "(x_train,y_train),(x_test,y_test) = cifar10.load_data()\n",
        "print('x_train',x_train.shape)\n",
        "print('y_train',y_train.shape)\n",
        "print('x_test',x_test.shape)\n",
        "print('y_test',y_test.shape)\n",
        "K=len(np.unique(y_train))\n",
        "Ntr = x_train.shape[0]\n",
        "Nte = x_test.shape[0]\n",
        "Din = 3072\n",
        "x_train , x_test = x_train/255.0,x_test/255.0\n",
        "mean_image = np.mean(x_train,axis=0)\n",
        "x_train = x_train - mean_image\n",
        "x_test = x_test - mean_image\n",
        "\n",
        "y_train = tf.keras.utils.to_categorical(y_train, num_classes=K)\n",
        "y_test = tf.keras.utils.to_categorical(y_test, num_classes=K)\n",
        "\n",
        "x_train = np.reshape(x_train,(Ntr,Din))\n",
        "x_test = np.reshape(x_test,(Nte,Din))\n",
        "x_train = x_train.astype('float32')\n",
        "x_test = x_test.astype('float32')\n",
        "std=1e-5\n",
        "w1 = std*np.random.randn(Din, K)\n",
        "b1 = np.zeros(K)\n",
        "print(\"w1:\", w1.shape)\n",
        "print(\"b1:\", b1.shape)\n",
        "batch_size = Ntr\n",
        "\n",
        "print('x_train',x_train.shape)\n",
        "print('y_train',y_train.shape)\n",
        "print('x_test',x_test.shape)\n",
        "print('y_test',y_test.shape)\n",
        "\n",
        "iterations = 1000\n",
        "lr =1.4e-2\n",
        "lr_decay=0.999\n",
        "reg =5e-6\n",
        "loss_history = []\n",
        "train_acc_history = []\n",
        "val_acc_history = []\n",
        "seed = 0\n",
        "rng = np.random.default_rng(seed=seed)\n",
        "for t in range(iterations):\n",
        "  indices = np.arange(Ntr)\n",
        "  rng.shuffle(indices)\n",
        "  x=x_train[indices]\n",
        "  y=y_train[indices]\n",
        "  y_pred = x.dot(w1) +b1\n",
        "  loss = 1.0/batch_size*np.square(y_pred-y).sum()+reg*(np.sum(w2*w2))\n",
        "  loss_history.append(loss)\n",
        "  if t%10==0:\n",
        "    print('iterations %d / %d : loss %f'%(t,iterations,loss))\n",
        "\n",
        "  dy_pred = 1./batch_size*2.0*(y_pred-y)\n",
        "  "
      ],
      "execution_count": 7,
      "outputs": [
        {
          "output_type": "stream",
          "text": [
            "x_train (50000, 32, 32, 3)\n",
            "y_train (50000, 1)\n",
            "x_test (10000, 32, 32, 3)\n",
            "y_test (10000, 1)\n",
            "w1: (3072, 10)\n",
            "b1: (10,)\n",
            "x_train (50000, 3072)\n",
            "y_train (50000, 10)\n",
            "x_test (10000, 3072)\n",
            "y_test (10000, 10)\n"
          ],
          "name": "stdout"
        }
      ]
    }
  ]
}